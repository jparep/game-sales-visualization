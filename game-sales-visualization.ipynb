{
 "cells": [
  {
   "cell_type": "code",
   "execution_count": 6,
   "id": "8f48c008-a0bc-4945-9de9-1aad31ad87aa",
   "metadata": {},
   "outputs": [],
   "source": [
    "# Install necessary libraries\n",
    "#install.packages(\"tidyverse\", dependencies = TRUE)\n",
    "#install.packages(\"ggthemes\", dependencies = TRUE)"
   ]
  },
  {
   "cell_type": "code",
   "execution_count": 7,
   "id": "4d629d4c-40c7-4a3e-a6ed-fa9d98f9023b",
   "metadata": {},
   "outputs": [],
   "source": [
    "suppressPackageStartupMessages({\n",
    "  library(tidyverse)\n",
    "  library(ggthemes)\n",
    "})"
   ]
  },
  {
   "cell_type": "code",
   "execution_count": 12,
   "id": "cc7b25a6-1852-4cbb-acaa-e8166e458c18",
   "metadata": {},
   "outputs": [],
   "source": [
    "data <- read_csv(\"vgsales.csv\", show_col_types=FALSE)"
   ]
  },
  {
   "cell_type": "code",
   "execution_count": 9,
   "id": "7c16f95d-a2b8-46aa-8aba-0c11971e3feb",
   "metadata": {},
   "outputs": [
    {
     "data": {
      "text/html": [
       "<table class=\"dataframe\">\n",
       "<caption>A tibble: 6 × 11</caption>\n",
       "<thead>\n",
       "\t<tr><th scope=col>Rank</th><th scope=col>Name</th><th scope=col>Platform</th><th scope=col>Year</th><th scope=col>Genre</th><th scope=col>Publisher</th><th scope=col>NA_Sales</th><th scope=col>EU_Sales</th><th scope=col>JP_Sales</th><th scope=col>Other_Sales</th><th scope=col>Global_Sales</th></tr>\n",
       "\t<tr><th scope=col>&lt;dbl&gt;</th><th scope=col>&lt;chr&gt;</th><th scope=col>&lt;chr&gt;</th><th scope=col>&lt;chr&gt;</th><th scope=col>&lt;chr&gt;</th><th scope=col>&lt;chr&gt;</th><th scope=col>&lt;dbl&gt;</th><th scope=col>&lt;dbl&gt;</th><th scope=col>&lt;dbl&gt;</th><th scope=col>&lt;dbl&gt;</th><th scope=col>&lt;dbl&gt;</th></tr>\n",
       "</thead>\n",
       "<tbody>\n",
       "\t<tr><td>1</td><td>Wii Sports              </td><td>Wii</td><td>2006</td><td>Sports      </td><td>Nintendo</td><td>41.49</td><td>29.02</td><td> 3.77</td><td>8.46</td><td>82.74</td></tr>\n",
       "\t<tr><td>2</td><td>Super Mario Bros.       </td><td>NES</td><td>1985</td><td>Platform    </td><td>Nintendo</td><td>29.08</td><td> 3.58</td><td> 6.81</td><td>0.77</td><td>40.24</td></tr>\n",
       "\t<tr><td>3</td><td>Mario Kart Wii          </td><td>Wii</td><td>2008</td><td>Racing      </td><td>Nintendo</td><td>15.85</td><td>12.88</td><td> 3.79</td><td>3.31</td><td>35.82</td></tr>\n",
       "\t<tr><td>4</td><td>Wii Sports Resort       </td><td>Wii</td><td>2009</td><td>Sports      </td><td>Nintendo</td><td>15.75</td><td>11.01</td><td> 3.28</td><td>2.96</td><td>33.00</td></tr>\n",
       "\t<tr><td>5</td><td>Pokemon Red/Pokemon Blue</td><td>GB </td><td>1996</td><td>Role-Playing</td><td>Nintendo</td><td>11.27</td><td> 8.89</td><td>10.22</td><td>1.00</td><td>31.37</td></tr>\n",
       "\t<tr><td>6</td><td>Tetris                  </td><td>GB </td><td>1989</td><td>Puzzle      </td><td>Nintendo</td><td>23.20</td><td> 2.26</td><td> 4.22</td><td>0.58</td><td>30.26</td></tr>\n",
       "</tbody>\n",
       "</table>\n"
      ],
      "text/latex": [
       "A tibble: 6 × 11\n",
       "\\begin{tabular}{lllllllllll}\n",
       " Rank & Name & Platform & Year & Genre & Publisher & NA\\_Sales & EU\\_Sales & JP\\_Sales & Other\\_Sales & Global\\_Sales\\\\\n",
       " <dbl> & <chr> & <chr> & <chr> & <chr> & <chr> & <dbl> & <dbl> & <dbl> & <dbl> & <dbl>\\\\\n",
       "\\hline\n",
       "\t 1 & Wii Sports               & Wii & 2006 & Sports       & Nintendo & 41.49 & 29.02 &  3.77 & 8.46 & 82.74\\\\\n",
       "\t 2 & Super Mario Bros.        & NES & 1985 & Platform     & Nintendo & 29.08 &  3.58 &  6.81 & 0.77 & 40.24\\\\\n",
       "\t 3 & Mario Kart Wii           & Wii & 2008 & Racing       & Nintendo & 15.85 & 12.88 &  3.79 & 3.31 & 35.82\\\\\n",
       "\t 4 & Wii Sports Resort        & Wii & 2009 & Sports       & Nintendo & 15.75 & 11.01 &  3.28 & 2.96 & 33.00\\\\\n",
       "\t 5 & Pokemon Red/Pokemon Blue & GB  & 1996 & Role-Playing & Nintendo & 11.27 &  8.89 & 10.22 & 1.00 & 31.37\\\\\n",
       "\t 6 & Tetris                   & GB  & 1989 & Puzzle       & Nintendo & 23.20 &  2.26 &  4.22 & 0.58 & 30.26\\\\\n",
       "\\end{tabular}\n"
      ],
      "text/markdown": [
       "\n",
       "A tibble: 6 × 11\n",
       "\n",
       "| Rank &lt;dbl&gt; | Name &lt;chr&gt; | Platform &lt;chr&gt; | Year &lt;chr&gt; | Genre &lt;chr&gt; | Publisher &lt;chr&gt; | NA_Sales &lt;dbl&gt; | EU_Sales &lt;dbl&gt; | JP_Sales &lt;dbl&gt; | Other_Sales &lt;dbl&gt; | Global_Sales &lt;dbl&gt; |\n",
       "|---|---|---|---|---|---|---|---|---|---|---|\n",
       "| 1 | Wii Sports               | Wii | 2006 | Sports       | Nintendo | 41.49 | 29.02 |  3.77 | 8.46 | 82.74 |\n",
       "| 2 | Super Mario Bros.        | NES | 1985 | Platform     | Nintendo | 29.08 |  3.58 |  6.81 | 0.77 | 40.24 |\n",
       "| 3 | Mario Kart Wii           | Wii | 2008 | Racing       | Nintendo | 15.85 | 12.88 |  3.79 | 3.31 | 35.82 |\n",
       "| 4 | Wii Sports Resort        | Wii | 2009 | Sports       | Nintendo | 15.75 | 11.01 |  3.28 | 2.96 | 33.00 |\n",
       "| 5 | Pokemon Red/Pokemon Blue | GB  | 1996 | Role-Playing | Nintendo | 11.27 |  8.89 | 10.22 | 1.00 | 31.37 |\n",
       "| 6 | Tetris                   | GB  | 1989 | Puzzle       | Nintendo | 23.20 |  2.26 |  4.22 | 0.58 | 30.26 |\n",
       "\n"
      ],
      "text/plain": [
       "  Rank Name                     Platform Year Genre        Publisher NA_Sales\n",
       "1 1    Wii Sports               Wii      2006 Sports       Nintendo  41.49   \n",
       "2 2    Super Mario Bros.        NES      1985 Platform     Nintendo  29.08   \n",
       "3 3    Mario Kart Wii           Wii      2008 Racing       Nintendo  15.85   \n",
       "4 4    Wii Sports Resort        Wii      2009 Sports       Nintendo  15.75   \n",
       "5 5    Pokemon Red/Pokemon Blue GB       1996 Role-Playing Nintendo  11.27   \n",
       "6 6    Tetris                   GB       1989 Puzzle       Nintendo  23.20   \n",
       "  EU_Sales JP_Sales Other_Sales Global_Sales\n",
       "1 29.02     3.77    8.46        82.74       \n",
       "2  3.58     6.81    0.77        40.24       \n",
       "3 12.88     3.79    3.31        35.82       \n",
       "4 11.01     3.28    2.96        33.00       \n",
       "5  8.89    10.22    1.00        31.37       \n",
       "6  2.26     4.22    0.58        30.26       "
      ]
     },
     "metadata": {},
     "output_type": "display_data"
    }
   ],
   "source": [
    "head(data)"
   ]
  },
  {
   "cell_type": "code",
   "execution_count": 18,
   "id": "5aae28c4-1652-4f7b-a468-8ec360dd375d",
   "metadata": {},
   "outputs": [
    {
     "data": {
      "text/html": [
       "<style>\n",
       ".list-inline {list-style: none; margin:0; padding: 0}\n",
       ".list-inline>li {display: inline-block}\n",
       ".list-inline>li:not(:last-child)::after {content: \"\\00b7\"; padding: 0 .5ex}\n",
       "</style>\n",
       "<ol class=list-inline><li>0</li><li>0</li><li>0</li><li>0</li><li>0</li><li>0</li></ol>\n"
      ],
      "text/latex": [
       "\\begin{enumerate*}\n",
       "\\item 0\n",
       "\\item 0\n",
       "\\item 0\n",
       "\\item 0\n",
       "\\item 0\n",
       "\\item 0\n",
       "\\end{enumerate*}\n"
      ],
      "text/markdown": [
       "1. 0\n",
       "2. 0\n",
       "3. 0\n",
       "4. 0\n",
       "5. 0\n",
       "6. 0\n",
       "\n",
       "\n"
      ],
      "text/plain": [
       "[1] 0 0 0 0 0 0"
      ]
     },
     "metadata": {},
     "output_type": "display_data"
    }
   ],
   "source": [
    "# Convert year to Int\n",
    "data <- data %>%\n",
    "    mutate(Year=as.numeric(Year))\n",
    "\n",
    "head(data$Year)"
   ]
  },
  {
   "cell_type": "code",
   "execution_count": 20,
   "id": "f7aac4b1-6907-48af-8fc5-4c26bbace778",
   "metadata": {},
   "outputs": [
    {
     "data": {
      "text/html": [
       "<style>\n",
       ".dl-inline {width: auto; margin:0; padding: 0}\n",
       ".dl-inline>dt, .dl-inline>dd {float: none; width: auto; display: inline-block}\n",
       ".dl-inline>dt::after {content: \":\\0020\"; padding-right: .5ex}\n",
       ".dl-inline>dt:not(:first-of-type) {padding-left: .5ex}\n",
       "</style><dl class=dl-inline><dt>Rank</dt><dd>0</dd><dt>Name</dt><dd>0</dd><dt>Platform</dt><dd>0</dd><dt>Year</dt><dd>0</dd><dt>Genre</dt><dd>0</dd><dt>Publisher</dt><dd>0</dd><dt>NA_Sales</dt><dd>0</dd><dt>EU_Sales</dt><dd>0</dd><dt>JP_Sales</dt><dd>0</dd><dt>Other_Sales</dt><dd>0</dd><dt>Global_Sales</dt><dd>0</dd></dl>\n"
      ],
      "text/latex": [
       "\\begin{description*}\n",
       "\\item[Rank] 0\n",
       "\\item[Name] 0\n",
       "\\item[Platform] 0\n",
       "\\item[Year] 0\n",
       "\\item[Genre] 0\n",
       "\\item[Publisher] 0\n",
       "\\item[NA\\textbackslash{}\\_Sales] 0\n",
       "\\item[EU\\textbackslash{}\\_Sales] 0\n",
       "\\item[JP\\textbackslash{}\\_Sales] 0\n",
       "\\item[Other\\textbackslash{}\\_Sales] 0\n",
       "\\item[Global\\textbackslash{}\\_Sales] 0\n",
       "\\end{description*}\n"
      ],
      "text/markdown": [
       "Rank\n",
       ":   0Name\n",
       ":   0Platform\n",
       ":   0Year\n",
       ":   0Genre\n",
       ":   0Publisher\n",
       ":   0NA_Sales\n",
       ":   0EU_Sales\n",
       ":   0JP_Sales\n",
       ":   0Other_Sales\n",
       ":   0Global_Sales\n",
       ":   0\n",
       "\n"
      ],
      "text/plain": [
       "        Rank         Name     Platform         Year        Genre    Publisher \n",
       "           0            0            0            0            0            0 \n",
       "    NA_Sales     EU_Sales     JP_Sales  Other_Sales Global_Sales \n",
       "           0            0            0            0            0 "
      ]
     },
     "metadata": {},
     "output_type": "display_data"
    }
   ],
   "source": [
    "# Check for missing values\n",
    "colSums(is.na(data))"
   ]
  },
  {
   "cell_type": "code",
   "execution_count": null,
   "id": "fc264ff6-6654-41aa-bf50-cc5a6d68a212",
   "metadata": {},
   "outputs": [],
   "source": []
  }
 ],
 "metadata": {
  "kernelspec": {
   "display_name": "R",
   "language": "R",
   "name": "ir"
  },
  "language_info": {
   "codemirror_mode": "r",
   "file_extension": ".r",
   "mimetype": "text/x-r-source",
   "name": "R",
   "pygments_lexer": "r",
   "version": "4.3.2"
  }
 },
 "nbformat": 4,
 "nbformat_minor": 5
}
